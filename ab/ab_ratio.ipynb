{
  "nbformat": 4,
  "nbformat_minor": 0,
  "metadata": {
    "colab": {
      "provenance": [],
      "authorship_tag": "ABX9TyOAdsiZeMTT9s+u/8oKUbss",
      "include_colab_link": true
    },
    "kernelspec": {
      "name": "python3",
      "display_name": "Python 3"
    },
    "language_info": {
      "name": "python"
    }
  },
  "cells": [
    {
      "cell_type": "markdown",
      "metadata": {
        "id": "view-in-github",
        "colab_type": "text"
      },
      "source": [
        "<a href=\"https://colab.research.google.com/github/davyandr/pet-projects/blob/main/ab/ab_ratio.ipynb\" target=\"_parent\"><img src=\"https://colab.research.google.com/assets/colab-badge.svg\" alt=\"Open In Colab\"/></a>"
      ]
    },
    {
      "cell_type": "markdown",
      "source": [
        "# Импорт"
      ],
      "metadata": {
        "id": "bJkwpfvn8HTt"
      }
    },
    {
      "cell_type": "code",
      "execution_count": 1,
      "metadata": {
        "colab": {
          "base_uri": "https://localhost:8080/"
        },
        "id": "2950UQsf7kXX",
        "outputId": "3db1f113-da88-443a-8397-2ed7187e1d05"
      },
      "outputs": [
        {
          "output_type": "stream",
          "name": "stdout",
          "text": [
            "Downloading...\n",
            "From: https://drive.google.com/uc?id=1z-2e19EAJ85nKm4ybzWirZGjH5dPxdof\n",
            "To: /content/ab_test_ctr.csv\n",
            "\r  0% 0.00/130k [00:00<?, ?B/s]\r100% 130k/130k [00:00<00:00, 3.69MB/s]\n"
          ]
        }
      ],
      "source": [
        "! gdown 1z-2e19EAJ85nKm4ybzWirZGjH5dPxdof"
      ]
    },
    {
      "cell_type": "markdown",
      "source": [
        "https://drive.google.com/file/d/1z-2e19EAJ85nKm4ybzWirZGjH5dPxdof/view?usp=sharing"
      ],
      "metadata": {
        "id": "ZtAQF7BP7nMI"
      }
    },
    {
      "cell_type": "code",
      "source": [
        "import numpy as np\n",
        "import pandas as pd\n",
        "import seaborn as sns\n",
        "import matplotlib.pyplot as plt\n",
        "from scipy import stats as ss\n",
        "import warnings\n",
        "import statsmodels.api as sm\n",
        "import statsmodels.stats.api as sms\n",
        "import statsmodels.formula.api as smf\n",
        "from tqdm.notebook import tqdm\n",
        "warnings.filterwarnings('ignore')\n",
        "%matplotlib inline"
      ],
      "metadata": {
        "id": "PxlnSXmb8VYS"
      },
      "execution_count": 2,
      "outputs": []
    },
    {
      "cell_type": "code",
      "source": [
        "df = pd.read_csv('/content/ab_test_ctr.csv')\n",
        "df.head()"
      ],
      "metadata": {
        "colab": {
          "base_uri": "https://localhost:8080/",
          "height": 206
        },
        "id": "H84bLKvs8aiV",
        "outputId": "37815345-beb6-453f-e60f-9d87dfb7d816"
      },
      "execution_count": 3,
      "outputs": [
        {
          "output_type": "execute_result",
          "data": {
            "text/plain": [
              "   user_id  test  views  clicks\n",
              "0    19981     0     55       2\n",
              "1    75961     0     68       7\n",
              "2    75576     0     68       5\n",
              "3    53989     0     35       4\n",
              "4    71118     0     34       3"
            ],
            "text/html": [
              "\n",
              "\n",
              "  <div id=\"df-91503a76-86bd-411d-8d0a-81842af08a6e\">\n",
              "    <div class=\"colab-df-container\">\n",
              "      <div>\n",
              "<style scoped>\n",
              "    .dataframe tbody tr th:only-of-type {\n",
              "        vertical-align: middle;\n",
              "    }\n",
              "\n",
              "    .dataframe tbody tr th {\n",
              "        vertical-align: top;\n",
              "    }\n",
              "\n",
              "    .dataframe thead th {\n",
              "        text-align: right;\n",
              "    }\n",
              "</style>\n",
              "<table border=\"1\" class=\"dataframe\">\n",
              "  <thead>\n",
              "    <tr style=\"text-align: right;\">\n",
              "      <th></th>\n",
              "      <th>user_id</th>\n",
              "      <th>test</th>\n",
              "      <th>views</th>\n",
              "      <th>clicks</th>\n",
              "    </tr>\n",
              "  </thead>\n",
              "  <tbody>\n",
              "    <tr>\n",
              "      <th>0</th>\n",
              "      <td>19981</td>\n",
              "      <td>0</td>\n",
              "      <td>55</td>\n",
              "      <td>2</td>\n",
              "    </tr>\n",
              "    <tr>\n",
              "      <th>1</th>\n",
              "      <td>75961</td>\n",
              "      <td>0</td>\n",
              "      <td>68</td>\n",
              "      <td>7</td>\n",
              "    </tr>\n",
              "    <tr>\n",
              "      <th>2</th>\n",
              "      <td>75576</td>\n",
              "      <td>0</td>\n",
              "      <td>68</td>\n",
              "      <td>5</td>\n",
              "    </tr>\n",
              "    <tr>\n",
              "      <th>3</th>\n",
              "      <td>53989</td>\n",
              "      <td>0</td>\n",
              "      <td>35</td>\n",
              "      <td>4</td>\n",
              "    </tr>\n",
              "    <tr>\n",
              "      <th>4</th>\n",
              "      <td>71118</td>\n",
              "      <td>0</td>\n",
              "      <td>34</td>\n",
              "      <td>3</td>\n",
              "    </tr>\n",
              "  </tbody>\n",
              "</table>\n",
              "</div>\n",
              "      <button class=\"colab-df-convert\" onclick=\"convertToInteractive('df-91503a76-86bd-411d-8d0a-81842af08a6e')\"\n",
              "              title=\"Convert this dataframe to an interactive table.\"\n",
              "              style=\"display:none;\">\n",
              "\n",
              "  <svg xmlns=\"http://www.w3.org/2000/svg\" height=\"24px\"viewBox=\"0 0 24 24\"\n",
              "       width=\"24px\">\n",
              "    <path d=\"M0 0h24v24H0V0z\" fill=\"none\"/>\n",
              "    <path d=\"M18.56 5.44l.94 2.06.94-2.06 2.06-.94-2.06-.94-.94-2.06-.94 2.06-2.06.94zm-11 1L8.5 8.5l.94-2.06 2.06-.94-2.06-.94L8.5 2.5l-.94 2.06-2.06.94zm10 10l.94 2.06.94-2.06 2.06-.94-2.06-.94-.94-2.06-.94 2.06-2.06.94z\"/><path d=\"M17.41 7.96l-1.37-1.37c-.4-.4-.92-.59-1.43-.59-.52 0-1.04.2-1.43.59L10.3 9.45l-7.72 7.72c-.78.78-.78 2.05 0 2.83L4 21.41c.39.39.9.59 1.41.59.51 0 1.02-.2 1.41-.59l7.78-7.78 2.81-2.81c.8-.78.8-2.07 0-2.86zM5.41 20L4 18.59l7.72-7.72 1.47 1.35L5.41 20z\"/>\n",
              "  </svg>\n",
              "      </button>\n",
              "\n",
              "\n",
              "\n",
              "    <div id=\"df-efd832b9-32fc-490d-95b6-b8cab5952a0e\">\n",
              "      <button class=\"colab-df-quickchart\" onclick=\"quickchart('df-efd832b9-32fc-490d-95b6-b8cab5952a0e')\"\n",
              "              title=\"Suggest charts.\"\n",
              "              style=\"display:none;\">\n",
              "\n",
              "<svg xmlns=\"http://www.w3.org/2000/svg\" height=\"24px\"viewBox=\"0 0 24 24\"\n",
              "     width=\"24px\">\n",
              "    <g>\n",
              "        <path d=\"M19 3H5c-1.1 0-2 .9-2 2v14c0 1.1.9 2 2 2h14c1.1 0 2-.9 2-2V5c0-1.1-.9-2-2-2zM9 17H7v-7h2v7zm4 0h-2V7h2v10zm4 0h-2v-4h2v4z\"/>\n",
              "    </g>\n",
              "</svg>\n",
              "      </button>\n",
              "    </div>\n",
              "\n",
              "<style>\n",
              "  .colab-df-quickchart {\n",
              "    background-color: #E8F0FE;\n",
              "    border: none;\n",
              "    border-radius: 50%;\n",
              "    cursor: pointer;\n",
              "    display: none;\n",
              "    fill: #1967D2;\n",
              "    height: 32px;\n",
              "    padding: 0 0 0 0;\n",
              "    width: 32px;\n",
              "  }\n",
              "\n",
              "  .colab-df-quickchart:hover {\n",
              "    background-color: #E2EBFA;\n",
              "    box-shadow: 0px 1px 2px rgba(60, 64, 67, 0.3), 0px 1px 3px 1px rgba(60, 64, 67, 0.15);\n",
              "    fill: #174EA6;\n",
              "  }\n",
              "\n",
              "  [theme=dark] .colab-df-quickchart {\n",
              "    background-color: #3B4455;\n",
              "    fill: #D2E3FC;\n",
              "  }\n",
              "\n",
              "  [theme=dark] .colab-df-quickchart:hover {\n",
              "    background-color: #434B5C;\n",
              "    box-shadow: 0px 1px 3px 1px rgba(0, 0, 0, 0.15);\n",
              "    filter: drop-shadow(0px 1px 2px rgba(0, 0, 0, 0.3));\n",
              "    fill: #FFFFFF;\n",
              "  }\n",
              "</style>\n",
              "\n",
              "    <script>\n",
              "      async function quickchart(key) {\n",
              "        const containerElement = document.querySelector('#' + key);\n",
              "        const charts = await google.colab.kernel.invokeFunction(\n",
              "            'suggestCharts', [key], {});\n",
              "      }\n",
              "    </script>\n",
              "\n",
              "      <script>\n",
              "\n",
              "function displayQuickchartButton(domScope) {\n",
              "  let quickchartButtonEl =\n",
              "    domScope.querySelector('#df-efd832b9-32fc-490d-95b6-b8cab5952a0e button.colab-df-quickchart');\n",
              "  quickchartButtonEl.style.display =\n",
              "    google.colab.kernel.accessAllowed ? 'block' : 'none';\n",
              "}\n",
              "\n",
              "        displayQuickchartButton(document);\n",
              "      </script>\n",
              "      <style>\n",
              "    .colab-df-container {\n",
              "      display:flex;\n",
              "      flex-wrap:wrap;\n",
              "      gap: 12px;\n",
              "    }\n",
              "\n",
              "    .colab-df-convert {\n",
              "      background-color: #E8F0FE;\n",
              "      border: none;\n",
              "      border-radius: 50%;\n",
              "      cursor: pointer;\n",
              "      display: none;\n",
              "      fill: #1967D2;\n",
              "      height: 32px;\n",
              "      padding: 0 0 0 0;\n",
              "      width: 32px;\n",
              "    }\n",
              "\n",
              "    .colab-df-convert:hover {\n",
              "      background-color: #E2EBFA;\n",
              "      box-shadow: 0px 1px 2px rgba(60, 64, 67, 0.3), 0px 1px 3px 1px rgba(60, 64, 67, 0.15);\n",
              "      fill: #174EA6;\n",
              "    }\n",
              "\n",
              "    [theme=dark] .colab-df-convert {\n",
              "      background-color: #3B4455;\n",
              "      fill: #D2E3FC;\n",
              "    }\n",
              "\n",
              "    [theme=dark] .colab-df-convert:hover {\n",
              "      background-color: #434B5C;\n",
              "      box-shadow: 0px 1px 3px 1px rgba(0, 0, 0, 0.15);\n",
              "      filter: drop-shadow(0px 1px 2px rgba(0, 0, 0, 0.3));\n",
              "      fill: #FFFFFF;\n",
              "    }\n",
              "  </style>\n",
              "\n",
              "      <script>\n",
              "        const buttonEl =\n",
              "          document.querySelector('#df-91503a76-86bd-411d-8d0a-81842af08a6e button.colab-df-convert');\n",
              "        buttonEl.style.display =\n",
              "          google.colab.kernel.accessAllowed ? 'block' : 'none';\n",
              "\n",
              "        async function convertToInteractive(key) {\n",
              "          const element = document.querySelector('#df-91503a76-86bd-411d-8d0a-81842af08a6e');\n",
              "          const dataTable =\n",
              "            await google.colab.kernel.invokeFunction('convertToInteractive',\n",
              "                                                     [key], {});\n",
              "          if (!dataTable) return;\n",
              "\n",
              "          const docLinkHtml = 'Like what you see? Visit the ' +\n",
              "            '<a target=\"_blank\" href=https://colab.research.google.com/notebooks/data_table.ipynb>data table notebook</a>'\n",
              "            + ' to learn more about interactive tables.';\n",
              "          element.innerHTML = '';\n",
              "          dataTable['output_type'] = 'display_data';\n",
              "          await google.colab.output.renderOutput(dataTable, element);\n",
              "          const docLink = document.createElement('div');\n",
              "          docLink.innerHTML = docLinkHtml;\n",
              "          element.appendChild(docLink);\n",
              "        }\n",
              "      </script>\n",
              "    </div>\n",
              "  </div>\n"
            ]
          },
          "metadata": {},
          "execution_count": 3
        }
      ]
    },
    {
      "cell_type": "code",
      "source": [
        "df['ctr'] = df.clicks / df.views"
      ],
      "metadata": {
        "id": "msfvqlWh8zpl"
      },
      "execution_count": 4,
      "outputs": []
    },
    {
      "cell_type": "code",
      "source": [
        "print('Sizes of groups:\\n')\n",
        "df.test.value_counts()"
      ],
      "metadata": {
        "colab": {
          "base_uri": "https://localhost:8080/"
        },
        "id": "AH_rW_pI-G0F",
        "outputId": "e602980a-7245-47f0-fd82-233d3d759b61"
      },
      "execution_count": 8,
      "outputs": [
        {
          "output_type": "stream",
          "name": "stdout",
          "text": [
            "Sizes of groups:\n",
            "\n"
          ]
        },
        {
          "output_type": "execute_result",
          "data": {
            "text/plain": [
              "0    5000\n",
              "1    5000\n",
              "Name: test, dtype: int64"
            ]
          },
          "metadata": {},
          "execution_count": 8
        }
      ]
    },
    {
      "cell_type": "code",
      "source": [
        "sns.histplot(data = df, x='ctr', hue='test', palette = ['r', 'b'], alpha=0.5, kde=False);"
      ],
      "metadata": {
        "colab": {
          "base_uri": "https://localhost:8080/",
          "height": 451
        },
        "id": "qfo2pl7w-sut",
        "outputId": "ce7828b7-1e10-45af-f39c-be63b3357c21"
      },
      "execution_count": 9,
      "outputs": [
        {
          "output_type": "display_data",
          "data": {
            "text/plain": [
              "<Figure size 640x480 with 1 Axes>"
            ],
            "image/png": "[encoded data removed]"
          },
          "metadata": {}
        }
      ]
    },
    {
      "cell_type": "markdown",
      "source": [
        "В эксперименте измеряем CTR"
      ],
      "metadata": {
        "id": "QlbnHwNXkCQR"
      }
    },
    {
      "cell_type": "markdown",
      "source": [
        "## $CTR_u = \\frac{Clicks_u}{Views_u}$  \n",
        "\n",
        "Клики и просмотры зависимые величины, поэтому будем использовать Дельта метод для вычисления дисперсии\n",
        "\n",
        "## $R = \\frac{\\sum\\limits_{i=1}^n Clicks_i}{\\sum\\limits_{i=1}^nViews_i}$  "
      ],
      "metadata": {
        "id": "xpJyUJa4kUot"
      }
    },
    {
      "cell_type": "markdown",
      "source": [
        "$H_0$: CTR(control) = CTR(experiment)\\\n",
        "$H_1$: CTR(control) ≠ CTR(experiment)"
      ],
      "metadata": {
        "id": "hovwux11whdf"
      }
    },
    {
      "cell_type": "markdown",
      "source": [
        "## $Var(\\frac{X}{Y}) \\approx  \\frac{1}{μ_y^2} Var(X) - 2\\frac{\\mu_x}{μ_y^3} cov(X, Y) + \\frac{\\mu_x^2}{μ_y^4} Var(Y)$\n",
        "\n",
        "## $Var(R) \\approx  \\frac{1}{n}(\\frac{1}{μ_y^2} Var(X) - 2\\frac{\\mu_x}{μ_y^3} cov(X, Y) + \\frac{\\mu_x^2}{μ_y^4} Var(Y))$"
      ],
      "metadata": {
        "id": "hdLCF2AklTpv"
      }
    },
    {
      "cell_type": "markdown",
      "source": [
        "Тогда формула для статистики Стьюдента:\n",
        "\n",
        "## $t = \\frac{R_B - R_A}{\\sqrt {Var(R_A) + Var(R_B)}}$"
      ],
      "metadata": {
        "id": "_mFknskppHDp"
      }
    },
    {
      "cell_type": "code",
      "source": [
        "def get_ttest_delta(X1, #clicks of A\n",
        "                    X2, #clicks of B\n",
        "                    Y1, #views of A\n",
        "                    Y2  #views of B\n",
        "                    ):\n",
        "\n",
        "  R1 = X1.sum() / Y1.sum()\n",
        "  R2 = X2.sum() / Y2.sum()\n",
        "\n",
        "  var_R1 = (1 / len(X1))     *      (X1.var() / (Y1.mean() ** 2)     - 2 * X1.mean() * (X1.cov(Y1))/ (Y1.mean() ** 3)     + (X1.mean() ** 2) * Y1.var() / (Y1.mean() ** 4))\n",
        "  var_R2 = (1 / len(X2))     *      (X2.var() / (Y2.mean() ** 2)     - 2 * X2.mean() * (X2.cov(Y2))/ (Y2.mean() ** 3)     + (X2.mean() ** 2) * Y2.var() / (Y2.mean() ** 4))\n",
        "\n",
        "  t = (R2 - R1) / ((var_R1 + var_R2)**0.5)\n",
        "\n",
        "\n",
        "  pvalue = (1 - ss.norm.cdf(np.abs(t))) * 2\n",
        "\n",
        "  return t, pvalue\n"
      ],
      "metadata": {
        "id": "TdjxcZsQkBR9"
      },
      "execution_count": 21,
      "outputs": []
    },
    {
      "cell_type": "code",
      "source": [
        "get_ttest_delta(\n",
        "    df[df['test'] == 0].clicks,\n",
        "    df[df['test'] == 1].clicks,\n",
        "    df[df['test'] == 0].views,\n",
        "    df[df['test'] == 1].views,\n",
        "    )"
      ],
      "metadata": {
        "colab": {
          "base_uri": "https://localhost:8080/"
        },
        "id": "utKlJkQ0unrF",
        "outputId": "909fd9ea-74ae-4c08-a562-72997bdc4039"
      },
      "execution_count": 22,
      "outputs": [
        {
          "output_type": "execute_result",
          "data": {
            "text/plain": [
              "(32.903989200927576, 0.0)"
            ]
          },
          "metadata": {},
          "execution_count": 22
        }
      ]
    },
    {
      "cell_type": "markdown",
      "source": [
        "P value меньше 0.05, значит отклоняем нулевую гипотезу\n",
        "# Раскатываем тестовую версию"
      ],
      "metadata": {
        "id": "rTvsGfHBwWvS"
      }
    }
  ]
}